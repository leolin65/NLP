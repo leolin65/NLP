{
 "cells": [
  {
   "cell_type": "code",
   "execution_count": 5,
   "metadata": {},
   "outputs": [],
   "source": [
    "#!/usr/bin/env python\n",
    "# coding: utf-8\n",
    "\n",
    "import math, re, os\n",
    "\n",
    "from collections import Counter, defaultdict\n",
    "\n",
    "# tokenize text and get words list\n",
    "def words(text): return re.findall(r'[\\w]+|[,.]', text.lower())\n",
    "\n",
    "# get all bigrams\n",
    "def bigrams(article):\n",
    "    texts = words(article)\n",
    "    return [(texts[idx], texts[idx+1]) for idx in range(len(texts)-1)]\n",
    "# bad habit:\n",
    "#     for num, text in enumerate(texts):\n",
    "#         if(num < len(texts)-1):\n",
    "#             bigram_list.append((texts[num], texts[num+1]))"
   ]
  },
  {
   "cell_type": "code",
   "execution_count": 6,
   "metadata": {},
   "outputs": [
    {
     "name": "stderr",
     "output_type": "stream",
     "text": [
      "IOPub data rate exceeded.\n",
      "The notebook server will temporarily stop sending output\n",
      "to the client in order to avoid crashing it.\n",
      "To change this limit, set the config variable\n",
      "`--NotebookApp.iopub_data_rate_limit`.\n",
      "\n",
      "Current values:\n",
      "NotebookApp.iopub_data_rate_limit=1000000.0 (bytes/sec)\n",
      "NotebookApp.rate_limit_window=3.0 (secs)\n",
      "\n"
     ]
    }
   ],
   "source": [
    "uni_count = Counter(words(open('big.txt').read()))\n",
    "#print (uni_count)\n",
    "bi_count = Counter(bigrams(open('big.txt').read()))\n",
    "print (bi_count)\n",
    "\n",
    "vocabulary_size = len(uni_count.keys())\n",
    "#print ('vocabulary_size' + vocabulary_size)\n",
    "\n",
    "all_bigrams = bi_count.keys()\n",
    "\n",
    "occurrence_dict = defaultdict(lambda: 0)\n",
    "for bigram in bi_count:\n",
    "    occurrence_dict[bi_count[bigram]] += 1"
   ]
  },
  {
   "cell_type": "code",
   "execution_count": 4,
   "metadata": {},
   "outputs": [],
   "source": [
    "def P(bigram):\n",
    "    w1 = bigram[0]\n",
    "    return math.log((bi_count[bigram]) / uni_count[w1])"
   ]
  },
  {
   "cell_type": "code",
   "execution_count": 7,
   "metadata": {},
   "outputs": [],
   "source": [
    "def add1_smooth(bigram):\n",
    "    w1 = bigram[0]\n",
    "    return math.log((bi_count[bigram]+1) / (uni_count[w1] + vocabulary_size))"
   ]
  },
  {
   "cell_type": "code",
   "execution_count": 8,
   "metadata": {},
   "outputs": [],
   "source": [
    "def good_turing(bigram):\n",
    "    w1 = bigram[0]\n",
    "    occur = bi_count[bigram]\n",
    "    # unseen bigram\n",
    "    if occur == 0:\n",
    "        return math.log(sum(occurrence_dict[i] for i in range(10))/sum(occurrence_dict.values()))\n",
    "    # bigram occur less than 10 times in trainning text\n",
    "    elif (occur > 0 and occur <= 10):\n",
    "        print(\"occur =\", occur)\n",
    "        occur_new = ((occur+1)*occurrence_dict[occur+1])/ occur\n",
    "        return math.log(occur_new/sum(occurrence_dict.values()))"
   ]
  },
  {
   "cell_type": "code",
   "execution_count": 9,
   "metadata": {},
   "outputs": [],
   "source": [
    "\"\"\" Bigram LM\n",
    "arg:\n",
    "    all_bigrams(list): [(w1, w2), (w1, w2), ...]\n",
    "return:\n",
    "    bigram probability(dict): key: (w1, w2), value: float\n",
    "\"\"\"\n",
    "def bigram_prob(all_bigrams):\n",
    "    prob_model = defaultdict(lambda: math.log(1/vocabulary_size))\n",
    "    for bigram in all_bigrams:\n",
    "        prob_model[bigram] = P(bigram)\n",
    "\n",
    "    return prob_model\n",
    "\n",
    "bigram_LM = bigram_prob(all_bigrams)"
   ]
  },
  {
   "cell_type": "code",
   "execution_count": 10,
   "metadata": {},
   "outputs": [
    {
     "name": "stdout",
     "output_type": "stream",
     "text": [
      "Are you interested about your offer for Marketing Assistant.\n",
      "-67.30460549937378\n",
      "Are you interested in your offer for Marketing Assistant.\n",
      "-59.13297710644945\n"
     ]
    }
   ],
   "source": [
    "# calculate the sentence probability\n",
    "# when prob. of bigram == 0, remember to use smooth\n",
    "def sentence_prob(sentence):\n",
    "    sentence_bigram = bigrams(sentence)\n",
    "    score = float()\n",
    "    for bigram in sentence_bigram:\n",
    "        if bigram in bigram_LM:\n",
    "            score += bigram_LM[bigram]\n",
    "        else:\n",
    "            score += add1_smooth(bigram)\n",
    "    return score\n",
    "\n",
    "if __name__ == \"__main__\":\n",
    "    \n",
    "    lm = sentence_prob(\"Are you interested about your offer for Marketing Assistant.\")\n",
    "    print(\"Are you interested about your offer for Marketing Assistant.\")\n",
    "    print(lm)\n",
    "    lm = sentence_prob(\"Are you interested in your offer for Marketing Assistant.\")\n",
    "    print(\"Are you interested in your offer for Marketing Assistant.\")\n",
    "    print(lm)"
   ]
  },
  {
   "cell_type": "code",
   "execution_count": 11,
   "metadata": {},
   "outputs": [
    {
     "name": "stdout",
     "output_type": "stream",
     "text": [
      "occur = 3\n",
      "Are you interested about your offer for Marketing Assistant.\n",
      "-12.401771374077807\n",
      "occur = 3\n",
      "Are you interested in your offer for Marketing Assistant.\n",
      "-14.564265436878625\n"
     ]
    }
   ],
   "source": [
    "def sentence_prob_good_turing(sentence):\n",
    "    sentence_bigram = bigrams(sentence)\n",
    "    score = float()\n",
    "    for bigram in sentence_bigram:\n",
    "        if bi_count[bigram] < 10:\n",
    "#             print(bigram)\n",
    "#             print(good_turing(bigram))\n",
    "            score += good_turing(bigram)\n",
    "        else:\n",
    "#             print(bigram_LM[bigram])\n",
    "            score += bigram_LM[bigram]\n",
    "    return score\n",
    "\n",
    "if __name__ == \"__main__\":\n",
    "    \n",
    "    lm = sentence_prob_good_turing(\"Are you interested about your offer for Marketing Assistant.\")\n",
    "    print(\"Are you interested about your offer for Marketing Assistant.\")\n",
    "    print(lm)\n",
    "    lm = sentence_prob_good_turing(\"Are you interested in your offer for Marketing Assistant.\")\n",
    "    print(\"Are you interested in your offer for Marketing Assistant.\")\n",
    "    print(lm)"
   ]
  },
  {
   "cell_type": "code",
   "execution_count": 12,
   "metadata": {},
   "outputs": [
    {
     "data": {
      "text/plain": [
       "5"
      ]
     },
     "execution_count": 12,
     "metadata": {},
     "output_type": "execute_result"
    }
   ],
   "source": [
    "tmp = {'this is': 2, 'is an':1, 'an apple':1, 'apple .':1}\n",
    "sum(tmp.values())"
   ]
  },
  {
   "cell_type": "code",
   "execution_count": 13,
   "metadata": {
    "scrolled": true
   },
   "outputs": [
    {
     "data": {
      "text/plain": [
       "338113"
      ]
     },
     "execution_count": 13,
     "metadata": {},
     "output_type": "execute_result"
    }
   ],
   "source": [
    "sum(occurrence_dict[i] for i in range(10))"
   ]
  },
  {
   "cell_type": "code",
   "execution_count": 20,
   "metadata": {},
   "outputs": [
    {
     "ename": "TypeError",
     "evalue": "unsupported operand type(s) for +: 'collections.defaultdict' and 'int'",
     "output_type": "error",
     "traceback": [
      "\u001b[1;31m---------------------------------------------------------------------------\u001b[0m",
      "\u001b[1;31mTypeError\u001b[0m                                 Traceback (most recent call last)",
      "\u001b[1;32m<ipython-input-20-6628900f8c8b>\u001b[0m in \u001b[0;36m<module>\u001b[1;34m\u001b[0m\n\u001b[0;32m      7\u001b[0m \u001b[1;33m\u001b[0m\u001b[0m\n\u001b[0;32m      8\u001b[0m \u001b[1;31m#math.log(bigram_count +1) + log(1 / unigram_count + V)\u001b[0m\u001b[1;33m\u001b[0m\u001b[1;33m\u001b[0m\u001b[1;33m\u001b[0m\u001b[0m\n\u001b[1;32m----> 9\u001b[1;33m \u001b[0mmath\u001b[0m\u001b[1;33m.\u001b[0m\u001b[0mlog\u001b[0m\u001b[1;33m(\u001b[0m\u001b[0mlog_bigram_count\u001b[0m \u001b[1;33m+\u001b[0m\u001b[1;36m1\u001b[0m\u001b[1;33m)\u001b[0m \u001b[1;33m+\u001b[0m \u001b[0mmath\u001b[0m\u001b[1;33m.\u001b[0m\u001b[0mlog\u001b[0m\u001b[1;33m(\u001b[0m\u001b[1;36m1\u001b[0m \u001b[1;33m/\u001b[0m \u001b[0mlog_unigram_count\u001b[0m \u001b[1;33m+\u001b[0m \u001b[0mV\u001b[0m\u001b[1;33m)\u001b[0m\u001b[1;33m\u001b[0m\u001b[1;33m\u001b[0m\u001b[0m\n\u001b[0m\u001b[0;32m     10\u001b[0m \u001b[1;33m\u001b[0m\u001b[0m\n\u001b[0;32m     11\u001b[0m \u001b[1;31m#math.log(1) = 0\u001b[0m\u001b[1;33m\u001b[0m\u001b[1;33m\u001b[0m\u001b[1;33m\u001b[0m\u001b[0m\n",
      "\u001b[1;31mTypeError\u001b[0m: unsupported operand type(s) for +: 'collections.defaultdict' and 'int'"
     ]
    }
   ],
   "source": [
    "from collections import Counter, defaultdict\n",
    "import math, re, os\n",
    "# P(A|B), given B, calculate A probability\n",
    "# bigram: \"w1 w2\"\n",
    "log_bigram_count = defaultdict(float)\n",
    "log_unigram_count = defaultdict(lambda : math.log(1/vocabulary_size))\n",
    "\n",
    "#math.log(bigram_count +1) + log(1 / unigram_count + V)\n",
    "math.log(log_bigram_count +1) + math.log(1 / log_unigram_count + V)\n",
    "\n",
    "#math.log(1) = 0\n",
    "#1 / unigram_count + V\n",
    "1 / log_unigram_count + V\n",
    "b1_word, b2_word = bigram_words\n",
    "log_bigram_count(bigram_words)+ log_unigram_count(b1_word)"
   ]
  },
  {
   "cell_type": "code",
   "execution_count": null,
   "metadata": {},
   "outputs": [],
   "source": []
  }
 ],
 "metadata": {
  "kernelspec": {
   "display_name": "Python 3",
   "language": "python",
   "name": "python3"
  },
  "language_info": {
   "codemirror_mode": {
    "name": "ipython",
    "version": 3
   },
   "file_extension": ".py",
   "mimetype": "text/x-python",
   "name": "python",
   "nbconvert_exporter": "python",
   "pygments_lexer": "ipython3",
   "version": "3.8.8"
  }
 },
 "nbformat": 4,
 "nbformat_minor": 4
}
